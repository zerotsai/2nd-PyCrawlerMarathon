{
 "cells": [
  {
   "cell_type": "markdown",
   "metadata": {},
   "source": [
    "Day1  練習作業"
   ]
  },
  {
   "cell_type": "markdown",
   "metadata": {},
   "source": [
    "# 1.（簡答題）檔案、API、爬蟲三種取得資料方式有什麼不同？\n",
    "\n",
    "(1)檔案 : 檔案會包裝成某種特定標準的格式提供存取。ex. CSV、XML、JSON、EXCEL 等等通用格式\n",
    "\n",
    "(2)開放接 API :提供程式連接的端口，讓介接的程式可以選擇資料中要讀取的特定部份，不需把資料完整全下載\n",
    "\n",
    "(3)網頁爬蟲 : 資料沒有以檔案或 API 提供，但以網頁呈現。就可利用爬蟲程式，將網頁解析所需要的資料部份"
   ]
  },
  {
   "cell_type": "code",
   "execution_count": null,
   "metadata": {},
   "outputs": [],
   "source": [
    "#下載檔案，並將其存檔改名存至指定位置\n",
    "\n",
    "from urllib.request import urlretrieve\n",
    "urlretrieve(\"https://www.w3.org/TR/PNG/iso_8859-1.txt\",\".\\Data\\Homework.txt\")             "
   ]
  },
  {
   "cell_type": "code",
   "execution_count": null,
   "metadata": {},
   "outputs": [],
   "source": [
    "\n",
    "with open(\".\\Data\\Homework.txt\" ,\"w\") as f :\n",
    "    f.write(\"Hello World\")"
   ]
  }
 ],
 "metadata": {
  "kernelspec": {
   "display_name": "Python 3.8.1 32-bit",
   "language": "python",
   "name": "python38132bitdfbe909374a54e268e6314b42a7713ad"
  },
  "language_info": {
   "codemirror_mode": {
    "name": "ipython",
    "version": 3
   },
   "file_extension": ".py",
   "mimetype": "text/x-python",
   "name": "python",
   "nbconvert_exporter": "python",
   "pygments_lexer": "ipython3",
   "version": "3.8.1"
  }
 },
 "nbformat": 4,
 "nbformat_minor": 2
}
